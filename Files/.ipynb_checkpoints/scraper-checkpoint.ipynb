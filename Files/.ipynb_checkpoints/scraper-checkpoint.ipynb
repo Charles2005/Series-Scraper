{
 "cells": [
  {
   "cell_type": "markdown",
   "id": "d32598f4-c57c-426c-a4fd-fb08b865d52e",
   "metadata": {},
   "source": [
    "# Imports "
   ]
  },
  {
   "cell_type": "code",
   "execution_count": 1,
   "id": "2a873a64-0192-40a7-8722-b6bbfaa8e41a",
   "metadata": {},
   "outputs": [],
   "source": [
    "from bs4 import BeautifulSoup\n",
    "from selenium import webdriver \n",
    "from selenium.webdriver.support.ui import Select\n",
    "import requests \n",
    "import csv"
   ]
  },
  {
   "cell_type": "markdown",
   "id": "d2f1c9b2-710b-4e1e-b720-0217deab6e64",
   "metadata": {},
   "source": [
    "# Web Automation "
   ]
  },
  {
   "cell_type": "code",
   "execution_count": 2,
   "id": "5bbad3bc-94d8-4a2e-9414-6779acc37503",
   "metadata": {},
   "outputs": [],
   "source": [
    "# Opening Browser\n",
    "PATH = \"../Selenium-Drivers/chromedriver.exe\"\n",
    "driver = webdriver.Chrome(PATH)\n",
    "driver.get(\"https://www.imdb.com/\")"
   ]
  },
  {
   "cell_type": "code",
   "execution_count": 3,
   "id": "1b1a4b6d-0184-4ca1-858e-d82988a6f194",
   "metadata": {},
   "outputs": [],
   "source": [
    "# Clicking dropdown \n",
    "driver.implicitly_wait(3)\n",
    "drop_down = driver.find_element_by_class_name(\"ipc-icon--arrow-drop-down\")\n",
    "drop_down.click()"
   ]
  },
  {
   "cell_type": "code",
   "execution_count": 4,
   "id": "ba56bacc-11c9-4537-b837-f45e67442cd6",
   "metadata": {},
   "outputs": [],
   "source": [
    "# Clicking link text \n",
    "advance_search = driver.find_element_by_link_text(\"Advanced Search\")\n",
    "advance_search.click()"
   ]
  },
  {
   "cell_type": "code",
   "execution_count": 5,
   "id": "1442664d-8010-4983-b6bb-f772ee10fc60",
   "metadata": {},
   "outputs": [],
   "source": [
    "# Clicking advanced title search \n",
    "driver.implicitly_wait(3)\n",
    "title_search = driver.find_element_by_link_text(\"Advanced Title Search\")\n",
    "title_search.click()"
   ]
  },
  {
   "cell_type": "code",
   "execution_count": 6,
   "id": "55508850-8273-450e-b931-73845c1ea979",
   "metadata": {},
   "outputs": [],
   "source": [
    "# Clicking title type \n",
    "driver.implicitly_wait(1)\n",
    "title_type = driver.find_element_by_id(\"title_type-3\")\n",
    "title_type.click()"
   ]
  },
  {
   "cell_type": "code",
   "execution_count": 7,
   "id": "160267b8-882a-4cf0-9ae1-9756d1bb716d",
   "metadata": {},
   "outputs": [],
   "source": [
    "# Typing for release date \n",
    "min_release_date = driver.find_element_by_name(\"release_date-min\")\n",
    "min_release_date.send_keys(\"2000\")\n",
    "max_release_date = driver.find_element_by_name(\"release_date-max\")\n",
    "max_release_date.send_keys(\"2021\")\n"
   ]
  },
  {
   "cell_type": "code",
   "execution_count": 8,
   "id": "f314e6b7-de15-4d2a-8eb6-fbb300753695",
   "metadata": {},
   "outputs": [],
   "source": [
    "# Selecting User Rating \n",
    "min_user_rating = driver.find_element_by_name(\"user_rating-min\")\n",
    "min_user_rating.click()\n",
    "drop_down2 = Select(min_user_rating)\n",
    "drop_down2.select_by_visible_text(\"5.0\")\n",
    "max_user_rating = driver.find_element_by_name(\"user_rating-max\")\n",
    "max_user_rating.click()\n",
    "drop_down3 = Select(max_user_rating)\n",
    "drop_down3.select_by_visible_text(\"9.5\")"
   ]
  },
  {
   "cell_type": "code",
   "execution_count": 9,
   "id": "ea878f2b-2e23-45bc-9a56-6e7ebac8472e",
   "metadata": {},
   "outputs": [],
   "source": [
    "# Selecting Genre \n",
    "genre1= driver.find_element_by_id(\"genres-1\")\n",
    "genre1.click()\n",
    "genre2= driver.find_element_by_id(\"genres-6\")\n",
    "genre2.click()"
   ]
  },
  {
   "cell_type": "code",
   "execution_count": 10,
   "id": "c1278476-1532-4b40-9bc5-daa845c1d375",
   "metadata": {},
   "outputs": [],
   "source": [
    "# Selecting Languages \n",
    "language = driver.find_element_by_name(\"languages\")\n",
    "select_language = Select(language)\n",
    "select_language.select_by_visible_text(\"English\")"
   ]
  },
  {
   "cell_type": "code",
   "execution_count": 11,
   "id": "e9781d6e-dbe4-4eb6-946f-a7faea06087e",
   "metadata": {},
   "outputs": [],
   "source": [
    "# Selecting number of display \n",
    "page_display_num = driver.find_element_by_id(\"search-count\")\n",
    "num_display = Select(page_display_num)\n",
    "num_display.select_by_visible_text(\"250 per page\")"
   ]
  },
  {
   "cell_type": "code",
   "execution_count": 12,
   "id": "d6297de8-cbc4-4ac7-a6d3-b7577a50d85f",
   "metadata": {},
   "outputs": [],
   "source": [
    "# Search Button \n",
    "select = driver.find_element_by_class_name(\"primary\")\n",
    "select.click()"
   ]
  },
  {
   "cell_type": "code",
   "execution_count": 13,
   "id": "5ccea007-8c86-4749-a6ac-c7ca22fd7c4c",
   "metadata": {},
   "outputs": [],
   "source": [
    "# Current url \n",
    "current_url = driver.current_url"
   ]
  },
  {
   "cell_type": "markdown",
   "id": "675457a1-0ca9-44c3-9dbb-a50b8323093e",
   "metadata": {},
   "source": [
    "# Scraping"
   ]
  },
  {
   "cell_type": "code",
   "execution_count": 14,
   "id": "4d7e8783-a55f-4c08-8013-355d54bb0db6",
   "metadata": {},
   "outputs": [
    {
     "data": {
      "text/plain": [
       "'https://www.imdb.com/search/title/?title_type=tv_series&release_date=2000-01-01,2021-12-31&user_rating=5.0,9.5&genres=action,crime&languages=en&count=250'"
      ]
     },
     "execution_count": 14,
     "metadata": {},
     "output_type": "execute_result"
    }
   ],
   "source": [
    "current_url"
   ]
  },
  {
   "cell_type": "code",
   "execution_count": 15,
   "id": "c50625f4-8d7d-4484-8154-f5a866fbc961",
   "metadata": {},
   "outputs": [],
   "source": [
    "# Get requests\n",
    "url_response = requests.get(current_url)"
   ]
  },
  {
   "cell_type": "code",
   "execution_count": 16,
   "id": "f0af11fd-6e5b-4e14-8a31-d00e476ae84b",
   "metadata": {},
   "outputs": [
    {
     "data": {
      "text/plain": [
       "200"
      ]
     },
     "execution_count": 16,
     "metadata": {},
     "output_type": "execute_result"
    }
   ],
   "source": [
    "# Status code\n",
    "url_response.status_code"
   ]
  },
  {
   "cell_type": "code",
   "execution_count": 17,
   "id": "16cc3975-a495-400d-bddf-564c5c2d7bc4",
   "metadata": {},
   "outputs": [],
   "source": [
    "# Creating soup object \n",
    "soup = BeautifulSoup(url_response.content, \"html.parser\")"
   ]
  },
  {
   "cell_type": "code",
   "execution_count": 19,
   "id": "0923591b-1301-4e8e-8157-49afaa72125d",
   "metadata": {},
   "outputs": [
    {
     "data": {
      "text/plain": [
       "250"
      ]
     },
     "execution_count": 19,
     "metadata": {},
     "output_type": "execute_result"
    }
   ],
   "source": [
    "# Getting the list \n",
    "list_items = soup.find_all('div', {\"class\":\"lister-item\"})\n",
    "len(list_items)"
   ]
  },
  {
   "cell_type": "code",
   "execution_count": 20,
   "id": "63bda615-2930-41a4-9a9c-3ac178bc9b25",
   "metadata": {},
   "outputs": [
    {
     "data": {
      "text/plain": [
       "'La casa de papel'"
      ]
     },
     "execution_count": 20,
     "metadata": {},
     "output_type": "execute_result"
    }
   ],
   "source": [
    "# Title \n",
    "list_items[0].find(\"h3\").find('a').get_text()"
   ]
  },
  {
   "cell_type": "code",
   "execution_count": 21,
   "id": "f2496651-c46f-4a08-9e37-c9fac7cc0141",
   "metadata": {},
   "outputs": [
    {
     "data": {
      "text/plain": [
       "'(2017–2021)'"
      ]
     },
     "execution_count": 21,
     "metadata": {},
     "output_type": "execute_result"
    }
   ],
   "source": [
    "# Year\n",
    "list_items[0].find(\"h3\").find('span', {'class': 'lister-item-year'}).get_text()"
   ]
  },
  {
   "cell_type": "code",
   "execution_count": 22,
   "id": "bc8ea55c-e0fd-48e5-b089-57329cf75926",
   "metadata": {},
   "outputs": [
    {
     "data": {
      "text/plain": [
       "'70 min'"
      ]
     },
     "execution_count": 22,
     "metadata": {},
     "output_type": "execute_result"
    }
   ],
   "source": [
    "# Runtime \n",
    "list_items[0].find('p').find('span', {'class': 'runtime'}).get_text()"
   ]
  },
  {
   "cell_type": "code",
   "execution_count": 34,
   "id": "9512df9d-706d-4ecc-b1e9-cef7d70ee2af",
   "metadata": {},
   "outputs": [
    {
     "data": {
      "text/plain": [
       "'\\nAction, Crime, Mystery            '"
      ]
     },
     "execution_count": 34,
     "metadata": {},
     "output_type": "execute_result"
    }
   ],
   "source": [
    "# Genre\n",
    "list_items[0].find('p').find('span', {'class': 'genre'}).text"
   ]
  },
  {
   "cell_type": "code",
   "execution_count": 24,
   "id": "de75c717-5317-4d2a-91aa-7418997a49d1",
   "metadata": {},
   "outputs": [
    {
     "data": {
      "text/plain": [
       "'8.2'"
      ]
     },
     "execution_count": 24,
     "metadata": {},
     "output_type": "execute_result"
    }
   ],
   "source": [
    "# Ratings \n",
    "list_items[0].find('div', {\"class\": \"ratings-imdb-rating\"}).find('strong').text()"
   ]
  },
  {
   "cell_type": "code",
   "execution_count": 35,
   "id": "b29c48fd-2f79-4d50-ad5c-8acdfc3ef666",
   "metadata": {},
   "outputs": [
    {
     "data": {
      "text/plain": [
       "'\\nAn unusual group of robbers attempt to carry out the most perfect robbery in Spanish history - stealing 2.4 billion euros from the Royal Mint of Spain.'"
      ]
     },
     "execution_count": 35,
     "metadata": {},
     "output_type": "execute_result"
    }
   ],
   "source": [
    "# Story summary\n",
    "list_items[0].find_all('p', {'class': \"text-muted\"})[1].text"
   ]
  },
  {
   "cell_type": "code",
   "execution_count": 36,
   "id": "b6b0ca4b-66ef-4d1e-be1c-35b2703b6cda",
   "metadata": {},
   "outputs": [
    {
     "name": "stdout",
     "output_type": "stream",
     "text": [
      "La casa de papel\n",
      "(2017–2021)\n",
      "70 min\n",
      "\n",
      "Action, Crime, Mystery            \n",
      "8.2\n",
      "\n",
      "An unusual group of robbers attempt to carry out the most perfect robbery in Spanish history - stealing 2.4 billion euros from the Royal Mint of Spain.\n",
      "Titans\n",
      "(I) (2018– )\n",
      "45 min\n",
      "\n",
      "Action, Adventure, Crime            \n",
      "7.6\n",
      "\n",
      "A team of young superheroes combat evil and other perils.\n",
      "NCIS: Naval Criminal Investigative Service\n",
      "(2003– )\n",
      "60 min\n",
      "\n",
      "Action, Crime, Drama            \n",
      "7.7\n",
      "\n",
      "The cases of the Naval Criminal Investigative Service's Washington, D.C. Major Case Response Team, led by Special Agent Leroy Jethro Gibbs.\n",
      "NCIS: Hawai'i\n",
      "(2021– )\n"
     ]
    },
    {
     "ename": "AttributeError",
     "evalue": "'NoneType' object has no attribute 'get_text'",
     "output_type": "error",
     "traceback": [
      "\u001b[1;31m---------------------------------------------------------------------------\u001b[0m",
      "\u001b[1;31mAttributeError\u001b[0m                            Traceback (most recent call last)",
      "\u001b[1;32m<ipython-input-36-e763fd062669>\u001b[0m in \u001b[0;36m<module>\u001b[1;34m\u001b[0m\n\u001b[0;32m      4\u001b[0m     \u001b[0myear\u001b[0m \u001b[1;33m=\u001b[0m \u001b[0mlist_items\u001b[0m\u001b[1;33m[\u001b[0m\u001b[0mi\u001b[0m\u001b[1;33m]\u001b[0m\u001b[1;33m.\u001b[0m\u001b[0mfind\u001b[0m\u001b[1;33m(\u001b[0m\u001b[1;34m\"h3\"\u001b[0m\u001b[1;33m)\u001b[0m\u001b[1;33m.\u001b[0m\u001b[0mfind\u001b[0m\u001b[1;33m(\u001b[0m\u001b[1;34m'span'\u001b[0m\u001b[1;33m,\u001b[0m \u001b[1;33m{\u001b[0m\u001b[1;34m'class'\u001b[0m\u001b[1;33m:\u001b[0m \u001b[1;34m'lister-item-year'\u001b[0m\u001b[1;33m}\u001b[0m\u001b[1;33m)\u001b[0m\u001b[1;33m.\u001b[0m\u001b[0mget_text\u001b[0m\u001b[1;33m(\u001b[0m\u001b[1;33m)\u001b[0m\u001b[1;33m\u001b[0m\u001b[1;33m\u001b[0m\u001b[0m\n\u001b[0;32m      5\u001b[0m     \u001b[0mprint\u001b[0m\u001b[1;33m(\u001b[0m\u001b[0myear\u001b[0m\u001b[1;33m)\u001b[0m\u001b[1;33m\u001b[0m\u001b[1;33m\u001b[0m\u001b[0m\n\u001b[1;32m----> 6\u001b[1;33m     \u001b[0mruntime\u001b[0m \u001b[1;33m=\u001b[0m \u001b[0mlist_items\u001b[0m\u001b[1;33m[\u001b[0m\u001b[0mi\u001b[0m\u001b[1;33m]\u001b[0m\u001b[1;33m.\u001b[0m\u001b[0mfind\u001b[0m\u001b[1;33m(\u001b[0m\u001b[1;34m'p'\u001b[0m\u001b[1;33m)\u001b[0m\u001b[1;33m.\u001b[0m\u001b[0mfind\u001b[0m\u001b[1;33m(\u001b[0m\u001b[1;34m'span'\u001b[0m\u001b[1;33m,\u001b[0m \u001b[1;33m{\u001b[0m\u001b[1;34m'class'\u001b[0m\u001b[1;33m:\u001b[0m \u001b[1;34m'runtime'\u001b[0m\u001b[1;33m}\u001b[0m\u001b[1;33m)\u001b[0m\u001b[1;33m.\u001b[0m\u001b[0mget_text\u001b[0m\u001b[1;33m(\u001b[0m\u001b[1;33m)\u001b[0m\u001b[1;33m\u001b[0m\u001b[1;33m\u001b[0m\u001b[0m\n\u001b[0m\u001b[0;32m      7\u001b[0m     \u001b[0mprint\u001b[0m\u001b[1;33m(\u001b[0m\u001b[0mruntime\u001b[0m\u001b[1;33m)\u001b[0m\u001b[1;33m\u001b[0m\u001b[1;33m\u001b[0m\u001b[0m\n\u001b[0;32m      8\u001b[0m     \u001b[0mgenre\u001b[0m \u001b[1;33m=\u001b[0m \u001b[0mlist_items\u001b[0m\u001b[1;33m[\u001b[0m\u001b[0mi\u001b[0m\u001b[1;33m]\u001b[0m\u001b[1;33m.\u001b[0m\u001b[0mfind\u001b[0m\u001b[1;33m(\u001b[0m\u001b[1;34m'p'\u001b[0m\u001b[1;33m)\u001b[0m\u001b[1;33m.\u001b[0m\u001b[0mfind\u001b[0m\u001b[1;33m(\u001b[0m\u001b[1;34m'span'\u001b[0m\u001b[1;33m,\u001b[0m \u001b[1;33m{\u001b[0m\u001b[1;34m'class'\u001b[0m\u001b[1;33m:\u001b[0m \u001b[1;34m'genre'\u001b[0m\u001b[1;33m}\u001b[0m\u001b[1;33m)\u001b[0m\u001b[1;33m.\u001b[0m\u001b[0mget_text\u001b[0m\u001b[1;33m(\u001b[0m\u001b[1;33m)\u001b[0m\u001b[1;33m\u001b[0m\u001b[1;33m\u001b[0m\u001b[0m\n",
      "\u001b[1;31mAttributeError\u001b[0m: 'NoneType' object has no attribute 'get_text'"
     ]
    }
   ],
   "source": [
    "\n",
    "for i in range(len(list_items)): \n",
    "    title = list_items[i].find(\"h3\").find('a').get_text()\n",
    "    print(title)\n",
    "    year = list_items[i].find(\"h3\").find('span', {'class': 'lister-item-year'}).get_text()\n",
    "    print(year)\n",
    "    try:\n",
    "        runtime = list_items[i].find('p').find('span', {'class': 'runtime'}).get_text()\n",
    "        print(runtime)\n",
    "    except Exception as e:\n",
    "        runtime = None\n",
    "    genre = list_items[i].find('p').find('span', {'class': 'genre'}).get_text()\n",
    "    print(genre)\n",
    "    rating = list_items[i].find('div', {\"class\": \"ratings-imdb-rating\"}).find('strong').get_text()\n",
    "    print(rating)\n",
    "    summary = list_items[i].find_all('p', {'class': \"text-muted\"})[1].get_text()\n",
    "    print(summary)\n",
    "    "
   ]
  },
  {
   "cell_type": "code",
   "execution_count": null,
   "id": "d1d41006-054d-4372-a037-ce9b78e56e20",
   "metadata": {},
   "outputs": [],
   "source": []
  }
 ],
 "metadata": {
  "kernelspec": {
   "display_name": "Python 3",
   "language": "python",
   "name": "python3"
  },
  "language_info": {
   "codemirror_mode": {
    "name": "ipython",
    "version": 3
   },
   "file_extension": ".py",
   "mimetype": "text/x-python",
   "name": "python",
   "nbconvert_exporter": "python",
   "pygments_lexer": "ipython3",
   "version": "3.9.5"
  }
 },
 "nbformat": 4,
 "nbformat_minor": 5
}
