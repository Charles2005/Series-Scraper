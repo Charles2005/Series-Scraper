{
 "cells": [
  {
   "cell_type": "markdown",
   "id": "d32598f4-c57c-426c-a4fd-fb08b865d52e",
   "metadata": {},
   "source": [
    "# Imports "
   ]
  },
  {
   "cell_type": "code",
   "execution_count": null,
   "id": "2a873a64-0192-40a7-8722-b6bbfaa8e41a",
   "metadata": {},
   "outputs": [],
   "source": [
    "from bs4 import BeautifulSoup\n",
    "from selenium import webdriver \n",
    "from selenium.webdriver.support.ui import Select\n",
    "import requests \n",
    "import csv"
   ]
  },
  {
   "cell_type": "markdown",
   "id": "d2f1c9b2-710b-4e1e-b720-0217deab6e64",
   "metadata": {},
   "source": [
    "# Web Automation "
   ]
  },
  {
   "cell_type": "code",
   "execution_count": null,
   "id": "5bbad3bc-94d8-4a2e-9414-6779acc37503",
   "metadata": {},
   "outputs": [],
   "source": [
    "# Opening Browser\n",
    "PATH = \"../Selenium-Drivers/chromedriver.exe\"\n",
    "driver = webdriver.Chrome(PATH)\n",
    "driver.get(\"https://www.imdb.com/\")"
   ]
  },
  {
   "cell_type": "code",
   "execution_count": null,
   "id": "1b1a4b6d-0184-4ca1-858e-d82988a6f194",
   "metadata": {},
   "outputs": [],
   "source": [
    "# Clicking dropdown \n",
    "driver.implicitly_wait(3)\n",
    "drop_down = driver.find_element_by_class_name(\"ipc-icon--arrow-drop-down\")\n",
    "drop_down.click()"
   ]
  },
  {
   "cell_type": "code",
   "execution_count": null,
   "id": "ba56bacc-11c9-4537-b837-f45e67442cd6",
   "metadata": {},
   "outputs": [],
   "source": [
    "# Clicking link text \n",
    "advance_search = driver.find_element_by_link_text(\"Advanced Search\")\n",
    "advance_search.click()"
   ]
  },
  {
   "cell_type": "code",
   "execution_count": null,
   "id": "1442664d-8010-4983-b6bb-f772ee10fc60",
   "metadata": {},
   "outputs": [],
   "source": [
    "# Clicking advanced title search \n",
    "driver.implicitly_wait(3)\n",
    "title_search = driver.find_element_by_link_text(\"Advanced Title Search\")\n",
    "title_search.click()"
   ]
  },
  {
   "cell_type": "code",
   "execution_count": null,
   "id": "55508850-8273-450e-b931-73845c1ea979",
   "metadata": {},
   "outputs": [],
   "source": [
    "# Clicking title type \n",
    "driver.implicitly_wait(1)\n",
    "title_type = driver.find_element_by_id(\"title_type-3\")\n",
    "title_type.click()"
   ]
  },
  {
   "cell_type": "code",
   "execution_count": null,
   "id": "160267b8-882a-4cf0-9ae1-9756d1bb716d",
   "metadata": {},
   "outputs": [],
   "source": [
    "# Typing for release date \n",
    "min_release_date = driver.find_element_by_name(\"release_date-min\")\n",
    "min_release_date.send_keys(\"2000\")\n",
    "max_release_date = driver.find_element_by_name(\"release_date-max\")\n",
    "max_release_date.send_keys(\"2021\")\n"
   ]
  },
  {
   "cell_type": "code",
   "execution_count": null,
   "id": "f314e6b7-de15-4d2a-8eb6-fbb300753695",
   "metadata": {},
   "outputs": [],
   "source": [
    "# Selecting User Rating \n",
    "min_user_rating = driver.find_element_by_name(\"user_rating-min\")\n",
    "min_user_rating.click()\n",
    "drop_down2 = Select(min_user_rating)\n",
    "drop_down2.select_by_visible_text(\"5.0\")\n",
    "max_user_rating = driver.find_element_by_name(\"user_rating-max\")\n",
    "max_user_rating.click()\n",
    "drop_down3 = Select(max_user_rating)\n",
    "drop_down3.select_by_visible_text(\"9.5\")"
   ]
  },
  {
   "cell_type": "code",
   "execution_count": null,
   "id": "ea878f2b-2e23-45bc-9a56-6e7ebac8472e",
   "metadata": {},
   "outputs": [],
   "source": [
    "# Selecting Genre \n",
    "genre1= driver.find_element_by_id(\"genres-1\")\n",
    "genre1.click()\n",
    "genre2= driver.find_element_by_id(\"genres-6\")\n",
    "genre2.click()"
   ]
  },
  {
   "cell_type": "code",
   "execution_count": null,
   "id": "c1278476-1532-4b40-9bc5-daa845c1d375",
   "metadata": {},
   "outputs": [],
   "source": [
    "# Selecting Languages \n",
    "language = driver.find_element_by_name(\"languages\")\n",
    "select_language = Select(language)\n",
    "select_language.select_by_visible_text(\"English\")"
   ]
  },
  {
   "cell_type": "code",
   "execution_count": null,
   "id": "e9781d6e-dbe4-4eb6-946f-a7faea06087e",
   "metadata": {},
   "outputs": [],
   "source": [
    "# Selecting number of display \n",
    "page_display_num = driver.find_element_by_id(\"search-count\")\n",
    "num_display = Select(page_display_num)\n",
    "num_display.select_by_visible_text(\"250 per page\")"
   ]
  },
  {
   "cell_type": "code",
   "execution_count": null,
   "id": "d6297de8-cbc4-4ac7-a6d3-b7577a50d85f",
   "metadata": {},
   "outputs": [],
   "source": [
    "# Search Button \n",
    "select = driver.find_element_by_class_name(\"primary\")\n",
    "select.click()"
   ]
  },
  {
   "cell_type": "code",
   "execution_count": null,
   "id": "5ccea007-8c86-4749-a6ac-c7ca22fd7c4c",
   "metadata": {},
   "outputs": [],
   "source": [
    "# Current url \n",
    "current_url = driver.current_url"
   ]
  },
  {
   "cell_type": "markdown",
   "id": "675457a1-0ca9-44c3-9dbb-a50b8323093e",
   "metadata": {},
   "source": [
    "# Scraping"
   ]
  },
  {
   "cell_type": "code",
   "execution_count": null,
   "id": "4d7e8783-a55f-4c08-8013-355d54bb0db6",
   "metadata": {},
   "outputs": [],
   "source": [
    "current_url"
   ]
  },
  {
   "cell_type": "code",
   "execution_count": null,
   "id": "c50625f4-8d7d-4484-8154-f5a866fbc961",
   "metadata": {},
   "outputs": [],
   "source": [
    "# Get requests\n",
    "url_response = requests.get(current_url)"
   ]
  },
  {
   "cell_type": "code",
   "execution_count": null,
   "id": "f0af11fd-6e5b-4e14-8a31-d00e476ae84b",
   "metadata": {},
   "outputs": [],
   "source": [
    "# Status code\n",
    "url_response.status_code"
   ]
  },
  {
   "cell_type": "code",
   "execution_count": null,
   "id": "16cc3975-a495-400d-bddf-564c5c2d7bc4",
   "metadata": {},
   "outputs": [],
   "source": [
    "# Creating soup object \n",
    "soup = BeautifulSoup(url_response.content, \"html.parser\")"
   ]
  },
  {
   "cell_type": "code",
   "execution_count": null,
   "id": "0923591b-1301-4e8e-8157-49afaa72125d",
   "metadata": {},
   "outputs": [],
   "source": [
    "# Getting the list \n",
    "list_items = soup.find_all('div', {\"class\":\"lister-item\"})\n",
    "len(list_items)"
   ]
  },
  {
   "cell_type": "code",
   "execution_count": null,
   "id": "b6b0ca4b-66ef-4d1e-be1c-35b2703b6cda",
   "metadata": {
    "tags": []
   },
   "outputs": [],
   "source": [
    "# ready csv \n",
    "csv_file = open(\"imdb_series_scrape.csv\", \"w\", encoding=\"utf-8\")\n",
    "csv_writer = csv.writer(csv_file)\n",
    "csv_writer.writerow([\"Title\", \"Year\", \"Runtime\", \"Genre\", \"Rating\", \"Summary\"])\n",
    "# Iterate throug the list \n",
    "for i in range(len(list_items)): \n",
    "    title = list_items[i].find(\"h3\").find('a').get_text()\n",
    "    print(title)\n",
    "    \n",
    "    year = list_items[i].find(\"h3\").find('span', {'class': 'lister-item-year'}).get_text()\n",
    "    print(year)\n",
    "    \n",
    "    try:\n",
    "        runtime = list_items[i].find('p').find('span', {'class': 'runtime'}).get_text()\n",
    "        print(runtime)\n",
    "    except Exception as e:\n",
    "        runtime = None\n",
    "    \n",
    "    genre = list_items[i].find('p').find('span', {'class': 'genre'}).get_text()\n",
    "    print(genre)\n",
    "    \n",
    "    rating = list_items[i].find('div', {\"class\": \"ratings-imdb-rating\"}).find('strong').get_text()\n",
    "    print(rating)\n",
    "    \n",
    "    summary = list_items[i].find_all('p', {'class': \"text-muted\"})[1].get_text()\n",
    "    print(summary)\n",
    "    \n",
    "    csv_writer.writerow([title, year, runtime, genre, rating, summary])  # Save the data to csv\n",
    "\n",
    "csv_file.close()\n",
    "    "
   ]
  }
 ],
 "metadata": {
  "kernelspec": {
   "display_name": "Python 3",
   "language": "python",
   "name": "python3"
  },
  "language_info": {
   "codemirror_mode": {
    "name": "ipython",
    "version": 3
   },
   "file_extension": ".py",
   "mimetype": "text/x-python",
   "name": "python",
   "nbconvert_exporter": "python",
   "pygments_lexer": "ipython3",
   "version": "3.9.5"
  }
 },
 "nbformat": 4,
 "nbformat_minor": 5
}
